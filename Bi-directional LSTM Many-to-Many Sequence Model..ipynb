{
 "cells": [
  {
   "cell_type": "code",
   "execution_count": 1,
   "metadata": {},
   "outputs": [],
   "source": [
    "import os"
   ]
  },
  {
   "cell_type": "code",
   "execution_count": 2,
   "metadata": {},
   "outputs": [
    {
     "data": {
      "text/plain": [
       "'H:\\\\document_classification\\\\Dataset'"
      ]
     },
     "execution_count": 2,
     "metadata": {},
     "output_type": "execute_result"
    }
   ],
   "source": [
    "os.getcwd()"
   ]
  },
  {
   "cell_type": "code",
   "execution_count": 3,
   "metadata": {},
   "outputs": [],
   "source": [
    "os.chdir(r'H:\\document_classification\\Dataset\\training-data')"
   ]
  },
  {
   "cell_type": "code",
   "execution_count": 4,
   "metadata": {},
   "outputs": [
    {
     "data": {
      "text/plain": [
       "'H:\\\\document_classification\\\\Dataset\\\\training-data'"
      ]
     },
     "execution_count": 4,
     "metadata": {},
     "output_type": "execute_result"
    }
   ],
   "source": [
    "os.getcwd()"
   ]
  },
  {
   "cell_type": "code",
   "execution_count": 5,
   "metadata": {},
   "outputs": [],
   "source": [
    "import glob"
   ]
  },
  {
   "cell_type": "code",
   "execution_count": 6,
   "metadata": {},
   "outputs": [],
   "source": [
    "filenames=glob.glob('*.txt')"
   ]
  },
  {
   "cell_type": "code",
   "execution_count": 9,
   "metadata": {},
   "outputs": [],
   "source": [
    "#Creating the training dataframe\n",
    "path=\"H:\\\\document_classification\\\\Dataset\\\\training-data\"\n",
    "training=[]\n",
    "for i in range(len(filenames)):\n",
    "    new_path=path+'\\\\'+filenames[i]\n",
    "    with open(new_path,'r') as infile:\n",
    "        data=infile.read()\n",
    "        data=data.split('\\n')\n",
    "        if(filenames[i][0]=='a'):\n",
    "            train=[words.split(\"\\t\")[1] for words in data if (words!='')&(words!='-----')]\n",
    "        else:\n",
    "            train=[words for words in data if (words!='')&(words!='-----')]\n",
    "        training.append(train)"
   ]
  },
  {
   "cell_type": "code",
   "execution_count": 10,
   "metadata": {},
   "outputs": [
    {
     "name": "stdout",
     "output_type": "stream",
     "text": [
      "2234\n"
     ]
    }
   ],
   "source": [
    "#Creating the training output \n",
    "import numpy as np\n",
    "import re\n",
    "y=[]\n",
    "for i in range(0,len(training)):\n",
    "    temp=[]\n",
    "    for j in range(len(training[i])):\n",
    "        training[i][j]=re.sub('[^A-Za-z0-9]',' ',training[i][j])\n",
    "        s=[j+1]*len(training[i][j].split())\n",
    "        temp.extend(s)\n",
    "        k=np.array(temp)\n",
    "        k=k.reshape(len(k),1)\n",
    "        from sklearn.preprocessing import OneHotEncoder\n",
    "        onehot_encoder = OneHotEncoder(sparse=False)\n",
    "        k = onehot_encoder.fit_transform(k)\n",
    "    #k=pad_sequences()\n",
    "    y.append(k)\n",
    "print(len(y))"
   ]
  },
  {
   "cell_type": "code",
   "execution_count": 11,
   "metadata": {},
   "outputs": [],
   "source": [
    "#(each record belongs to one of the 10 segments)\n",
    "temp2=[]\n",
    "for i in range(0,len(y)):\n",
    "    temp=[]\n",
    "    for j in range(len(y[i])):\n",
    "        temp1=list(y[i][j])\n",
    "        temp1.extend([0]*(10-len(temp1)))\n",
    "        temp.append(temp1)\n",
    "    temp2.append(temp)"
   ]
  },
  {
   "cell_type": "code",
   "execution_count": 12,
   "metadata": {},
   "outputs": [],
   "source": [
    "y=temp2"
   ]
  },
  {
   "cell_type": "code",
   "execution_count": 13,
   "metadata": {},
   "outputs": [
    {
     "name": "stdout",
     "output_type": "stream",
     "text": [
      "Loading Glove Model\n",
      "Done. 400000  words loaded!\n"
     ]
    }
   ],
   "source": [
    "#Loading the word embedding model\n",
    "file = r\"H:\\\\glove.6B.100d.txt\"\n",
    "import numpy as np\n",
    "def loadGloveModel(gloveFile):\n",
    "    print (\"Loading Glove Model\")\n",
    "    with open(gloveFile, encoding=\"utf8\" ) as f:\n",
    "       content = f.readlines()\n",
    "    model = {}\n",
    "    for line in content:\n",
    "        splitLine = line.split()\n",
    "        word = splitLine[0]\n",
    "        embedding = np.array([float(val) for val in splitLine[1:]])\n",
    "        model[word] = embedding\n",
    "    print (\"Done.\",len(model),\" words loaded!\")\n",
    "    return model\n",
    "model_dict= loadGloveModel(file) "
   ]
  },
  {
   "cell_type": "code",
   "execution_count": null,
   "metadata": {},
   "outputs": [],
   "source": [
    "#Converting the word into vector\n",
    "train=[]\n",
    "for i in range(0,len(training)):\n",
    "    temp1=[]\n",
    "    for j in range(len(training[i])):\n",
    "        training[i][j]=training[i][j].lower()\n",
    "        #training[i][j]=re.sub('[^A-Za-z0-9]',' ',training[i][j])\n",
    "        sent=training[i][j].split()\n",
    "        for words in sent:\n",
    "            if words in model_dict:\n",
    "                temp1.append(list(model_dict[words]))\n",
    "            else:\n",
    "                temp1.append(list(np.zeros(100)))\n",
    "    train.append(temp1)"
   ]
  },
  {
   "cell_type": "code",
   "execution_count": 13,
   "metadata": {},
   "outputs": [],
   "source": [
    "#Padding for making the tensor\n",
    "for i in range(len(train)):\n",
    "    train[i].extend([[0]*100]*(2500-len(train[i])))"
   ]
  },
  {
   "cell_type": "code",
   "execution_count": 14,
   "metadata": {},
   "outputs": [],
   "source": [
    "padded1=np.array(train)"
   ]
  },
  {
   "cell_type": "code",
   "execution_count": 15,
   "metadata": {},
   "outputs": [
    {
     "data": {
      "text/plain": [
       "(2234, 2500, 100)"
      ]
     },
     "execution_count": 15,
     "metadata": {},
     "output_type": "execute_result"
    }
   ],
   "source": [
    "padded1.shape"
   ]
  },
  {
   "cell_type": "code",
   "execution_count": 16,
   "metadata": {},
   "outputs": [],
   "source": [
    "for i in range(len(y)):\n",
    "    y[i].extend([[0]*10]*(2500-len(y[i])))"
   ]
  },
  {
   "cell_type": "code",
   "execution_count": 17,
   "metadata": {},
   "outputs": [
    {
     "data": {
      "text/plain": [
       "10"
      ]
     },
     "execution_count": 17,
     "metadata": {},
     "output_type": "execute_result"
    }
   ],
   "source": [
    "len(y[0][0])"
   ]
  },
  {
   "cell_type": "code",
   "execution_count": 18,
   "metadata": {},
   "outputs": [],
   "source": [
    "X_train=padded1"
   ]
  },
  {
   "cell_type": "code",
   "execution_count": 19,
   "metadata": {},
   "outputs": [
    {
     "data": {
      "text/plain": [
       "(2234, 2500, 100)"
      ]
     },
     "execution_count": 19,
     "metadata": {},
     "output_type": "execute_result"
    }
   ],
   "source": [
    "X_train.shape"
   ]
  },
  {
   "cell_type": "code",
   "execution_count": 20,
   "metadata": {},
   "outputs": [],
   "source": [
    "y_train=np.array(y)"
   ]
  },
  {
   "cell_type": "code",
   "execution_count": 21,
   "metadata": {},
   "outputs": [
    {
     "data": {
      "text/plain": [
       "(2234, 2500, 10)"
      ]
     },
     "execution_count": 21,
     "metadata": {},
     "output_type": "execute_result"
    }
   ],
   "source": [
    "y_train.shape"
   ]
  },
  {
   "cell_type": "code",
   "execution_count": 22,
   "metadata": {},
   "outputs": [
    {
     "name": "stderr",
     "output_type": "stream",
     "text": [
      "C:\\Users\\Ashish\\Anaconda3\\lib\\site-packages\\h5py\\__init__.py:36: FutureWarning: Conversion of the second argument of issubdtype from `float` to `np.floating` is deprecated. In future, it will be treated as `np.float64 == np.dtype(float).type`.\n",
      "  from ._conv import register_converters as _register_converters\n",
      "Using TensorFlow backend.\n"
     ]
    }
   ],
   "source": [
    "from keras.models import Sequential\n",
    "from keras.layers import LSTM\n",
    "from keras.layers import Dense\n",
    "from keras.layers import TimeDistributed\n",
    "from keras.layers import Masking\n",
    "from keras.layers import Bidirectional\n",
    " "
   ]
  },
  {
   "cell_type": "code",
   "execution_count": 23,
   "metadata": {},
   "outputs": [],
   "source": [
    "##########################Adding Validation Dataset####################################\n",
    "os.chdir(r'H:\\document_classification\\Dataset\\val-data')\n",
    "filenames_val=glob.glob('*.txt')"
   ]
  },
  {
   "cell_type": "code",
   "execution_count": 24,
   "metadata": {},
   "outputs": [],
   "source": [
    "path='H:\\\\document_classification\\\\Dataset\\\\val-data'\n",
    "validation=[]\n",
    "for i in range(len(filenames_val)):\n",
    "    new_path=path+'\\\\'+filenames_val[i]\n",
    "    with open(new_path,'r') as infile:\n",
    "        data=infile.read()\n",
    "        data=data.split('\\n')\n",
    "        train_val=[words for words in data if (words!='')&(words!='-----')]\n",
    "        validation.append(train_val)"
   ]
  },
  {
   "cell_type": "code",
   "execution_count": 25,
   "metadata": {},
   "outputs": [
    {
     "name": "stdout",
     "output_type": "stream",
     "text": [
      "151\n"
     ]
    }
   ],
   "source": [
    "import numpy as np\n",
    "import re\n",
    "y_val=[]\n",
    "for i in range(0,len(validation)):\n",
    "    temp=[]\n",
    "    for j in range(len(validation[i])):\n",
    "        validation[i][j]=re.sub('[^A-Za-z0-9]',' ',validation[i][j])\n",
    "        s=[j+1]*len(validation[i][j].split())\n",
    "        temp.extend(s)\n",
    "        k=np.array(temp)\n",
    "        k=k.reshape(len(k),1)\n",
    "        from sklearn.preprocessing import OneHotEncoder\n",
    "        onehot_encoder = OneHotEncoder(sparse=False)\n",
    "        k = onehot_encoder.fit_transform(k)\n",
    "    #k=pad_sequences()\n",
    "    y_val.append(k)\n",
    "print(len(y_val))"
   ]
  },
  {
   "cell_type": "code",
   "execution_count": 26,
   "metadata": {},
   "outputs": [],
   "source": [
    "temp2=[]\n",
    "for i in range(0,len(y_val)):\n",
    "    temp=[]\n",
    "    for j in range(len(y_val[i])):\n",
    "        temp1=list(y_val[i][j])\n",
    "        temp1.extend([0]*(10-len(temp1)))\n",
    "        temp.append(temp1)\n",
    "    temp2.append(temp)"
   ]
  },
  {
   "cell_type": "code",
   "execution_count": 27,
   "metadata": {},
   "outputs": [],
   "source": [
    "y_val=temp2"
   ]
  },
  {
   "cell_type": "code",
   "execution_count": 28,
   "metadata": {},
   "outputs": [],
   "source": [
    "val=[]\n",
    "for i in range(0,len(validation)):\n",
    "    temp1=[]\n",
    "    for j in range(len(validation[i])):\n",
    "        validation[i][j]=validation[i][j].lower()\n",
    "        #training[i][j]=re.sub('[^A-Za-z0-9]',' ',training[i][j])\n",
    "        sent=validation[i][j].split()\n",
    "        for words in sent:\n",
    "            if words in model_dict:\n",
    "                temp1.append(list(model_dict[words]))\n",
    "            else:\n",
    "                temp1.append(list(np.zeros(100)))\n",
    "    val.append(temp1)"
   ]
  },
  {
   "cell_type": "code",
   "execution_count": 29,
   "metadata": {},
   "outputs": [],
   "source": [
    "for i in range(len(val)):\n",
    "    val[i].extend([[0]*100]*(2500-len(val[i])))"
   ]
  },
  {
   "cell_type": "code",
   "execution_count": 31,
   "metadata": {},
   "outputs": [],
   "source": [
    "val_train=np.array(val)"
   ]
  },
  {
   "cell_type": "code",
   "execution_count": 32,
   "metadata": {},
   "outputs": [],
   "source": [
    "for i in range(len(y_val)):\n",
    "    y_val[i].extend([[0]*10]*(2500-len(y_val[i])))\n"
   ]
  },
  {
   "cell_type": "code",
   "execution_count": 33,
   "metadata": {},
   "outputs": [],
   "source": [
    "val_test=np.array(y_val)"
   ]
  },
  {
   "cell_type": "code",
   "execution_count": 34,
   "metadata": {},
   "outputs": [
    {
     "data": {
      "text/plain": [
       "(151, 2500, 100)"
      ]
     },
     "execution_count": 34,
     "metadata": {},
     "output_type": "execute_result"
    }
   ],
   "source": [
    "val_train.shape"
   ]
  },
  {
   "cell_type": "code",
   "execution_count": 35,
   "metadata": {},
   "outputs": [
    {
     "data": {
      "text/plain": [
       "(151, 2500, 10)"
      ]
     },
     "execution_count": 35,
     "metadata": {},
     "output_type": "execute_result"
    }
   ],
   "source": [
    "val_test.shape"
   ]
  },
  {
   "cell_type": "code",
   "execution_count": 36,
   "metadata": {},
   "outputs": [],
   "source": [
    "#Buiding the Bidirectional model for classification\n",
    "model = Sequential()\n",
    "model.add(Masking(mask_value=0., input_shape=(2500,100)))\n",
    "model.add(Bidirectional(LSTM(100, input_shape=(2500,100), return_sequences=True)))\n",
    "#model.add(Dense(50))\n",
    "model.add(Dense(units=10, activation='softmax'))\n",
    "model.compile(loss='categorical_crossentropy', optimizer='rmsprop', metrics=['accuracy'])"
   ]
  },
  {
   "cell_type": "code",
   "execution_count": 37,
   "metadata": {},
   "outputs": [
    {
     "data": {
      "text/plain": [
       "(2234, 2500, 100)"
      ]
     },
     "execution_count": 37,
     "metadata": {},
     "output_type": "execute_result"
    }
   ],
   "source": [
    "X_train.shape"
   ]
  },
  {
   "cell_type": "code",
   "execution_count": 38,
   "metadata": {},
   "outputs": [
    {
     "data": {
      "text/plain": [
       "(2234, 2500, 10)"
      ]
     },
     "execution_count": 38,
     "metadata": {},
     "output_type": "execute_result"
    }
   ],
   "source": [
    "y_train.shape"
   ]
  },
  {
   "cell_type": "code",
   "execution_count": 39,
   "metadata": {},
   "outputs": [
    {
     "data": {
      "text/plain": [
       "(151, 2500, 100)"
      ]
     },
     "execution_count": 39,
     "metadata": {},
     "output_type": "execute_result"
    }
   ],
   "source": [
    "val_train.shape"
   ]
  },
  {
   "cell_type": "code",
   "execution_count": 40,
   "metadata": {},
   "outputs": [
    {
     "data": {
      "text/plain": [
       "(151, 2500, 10)"
      ]
     },
     "execution_count": 40,
     "metadata": {},
     "output_type": "execute_result"
    }
   ],
   "source": [
    "val_test.shape"
   ]
  },
  {
   "cell_type": "code",
   "execution_count": 41,
   "metadata": {
    "scrolled": true
   },
   "outputs": [
    {
     "name": "stdout",
     "output_type": "stream",
     "text": [
      "Train on 2234 samples, validate on 151 samples\n",
      "Epoch 1/10\n",
      "2234/2234 [==============================] - 7373s 3s/step - loss: 0.8203 - acc: 0.6436 - val_loss: 0.4373 - val_acc: 0.8125\n",
      "Epoch 2/10\n",
      "2234/2234 [==============================] - 7628s 3s/step - loss: 0.5059 - acc: 0.7869 - val_loss: 0.4049 - val_acc: 0.8243\n",
      "Epoch 3/10\n",
      "2234/2234 [==============================] - 7479s 3s/step - loss: 0.4619 - acc: 0.8055 - val_loss: 0.4812 - val_acc: 0.7967\n",
      "Epoch 4/10\n",
      "2234/2234 [==============================] - 7670s 3s/step - loss: 0.4312 - acc: 0.8210 - val_loss: 0.4104 - val_acc: 0.8203\n",
      "Epoch 5/10\n",
      "2234/2234 [==============================] - 7467s 3s/step - loss: 0.3946 - acc: 0.8361 - val_loss: 0.3914 - val_acc: 0.8291\n",
      "Epoch 6/10\n",
      "2234/2234 [==============================] - 7402s 3s/step - loss: 0.3704 - acc: 0.8457 - val_loss: 0.4102 - val_acc: 0.8247\n",
      "Epoch 7/10\n",
      "2234/2234 [==============================] - 7487s 3s/step - loss: 0.3446 - acc: 0.8586 - val_loss: 0.3983 - val_acc: 0.8364\n",
      "Epoch 8/10\n",
      "1283/2234 [================>.............] - ETA: 56:09 - loss: 0.3338 - acc: 0.8623"
     ]
    },
    {
     "name": "stderr",
     "output_type": "stream",
     "text": [
      "ERROR:root:Internal Python error in the inspect module.\n",
      "Below is the traceback from this internal error.\n",
      "\n"
     ]
    },
    {
     "name": "stdout",
     "output_type": "stream",
     "text": [
      "Traceback (most recent call last):\n",
      "  File \"C:\\Users\\Ashish\\Anaconda3\\lib\\site-packages\\IPython\\core\\interactiveshell.py\", line 2910, in run_code\n",
      "    exec(code_obj, self.user_global_ns, self.user_ns)\n",
      "  File \"<ipython-input-41-f9e0dcb6f516>\", line 1, in <module>\n",
      "    model.fit(X_train, y_train,epochs=10, batch_size=1, verbose=1,validation_data=(val_train,val_test))\n",
      "  File \"C:\\Users\\Ashish\\Anaconda3\\lib\\site-packages\\keras\\models.py\", line 1002, in fit\n",
      "    validation_steps=validation_steps)\n",
      "  File \"C:\\Users\\Ashish\\Anaconda3\\lib\\site-packages\\keras\\engine\\training.py\", line 1705, in fit\n",
      "    validation_steps=validation_steps)\n",
      "  File \"C:\\Users\\Ashish\\Anaconda3\\lib\\site-packages\\keras\\engine\\training.py\", line 1236, in _fit_loop\n",
      "    outs = f(ins_batch)\n",
      "  File \"C:\\Users\\Ashish\\Anaconda3\\lib\\site-packages\\keras\\backend\\tensorflow_backend.py\", line 2482, in __call__\n",
      "    **self.session_kwargs)\n",
      "  File \"C:\\Users\\Ashish\\Anaconda3\\lib\\site-packages\\tensorflow\\python\\client\\session.py\", line 900, in run\n",
      "    run_metadata_ptr)\n",
      "  File \"C:\\Users\\Ashish\\Anaconda3\\lib\\site-packages\\tensorflow\\python\\client\\session.py\", line 1135, in _run\n",
      "    feed_dict_tensor, options, run_metadata)\n",
      "  File \"C:\\Users\\Ashish\\Anaconda3\\lib\\site-packages\\tensorflow\\python\\client\\session.py\", line 1316, in _do_run\n",
      "    run_metadata)\n",
      "  File \"C:\\Users\\Ashish\\Anaconda3\\lib\\site-packages\\tensorflow\\python\\client\\session.py\", line 1322, in _do_call\n",
      "    return fn(*args)\n",
      "  File \"C:\\Users\\Ashish\\Anaconda3\\lib\\site-packages\\tensorflow\\python\\client\\session.py\", line 1307, in _run_fn\n",
      "    options, feed_dict, fetch_list, target_list, run_metadata)\n",
      "  File \"C:\\Users\\Ashish\\Anaconda3\\lib\\site-packages\\tensorflow\\python\\client\\session.py\", line 1409, in _call_tf_sessionrun\n",
      "    run_metadata)\n",
      "KeyboardInterrupt\n",
      "\n",
      "During handling of the above exception, another exception occurred:\n",
      "\n",
      "Traceback (most recent call last):\n",
      "  File \"C:\\Users\\Ashish\\Anaconda3\\lib\\site-packages\\IPython\\core\\interactiveshell.py\", line 1828, in showtraceback\n",
      "    stb = value._render_traceback_()\n",
      "AttributeError: 'KeyboardInterrupt' object has no attribute '_render_traceback_'\n",
      "\n",
      "During handling of the above exception, another exception occurred:\n",
      "\n",
      "Traceback (most recent call last):\n",
      "  File \"C:\\Users\\Ashish\\Anaconda3\\lib\\site-packages\\IPython\\core\\ultratb.py\", line 1090, in get_records\n",
      "    return _fixed_getinnerframes(etb, number_of_lines_of_context, tb_offset)\n",
      "  File \"C:\\Users\\Ashish\\Anaconda3\\lib\\site-packages\\IPython\\core\\ultratb.py\", line 311, in wrapped\n",
      "    return f(*args, **kwargs)\n",
      "  File \"C:\\Users\\Ashish\\Anaconda3\\lib\\site-packages\\IPython\\core\\ultratb.py\", line 345, in _fixed_getinnerframes\n",
      "    records = fix_frame_records_filenames(inspect.getinnerframes(etb, context))\n",
      "  File \"C:\\Users\\Ashish\\Anaconda3\\lib\\inspect.py\", line 1483, in getinnerframes\n",
      "    frameinfo = (tb.tb_frame,) + getframeinfo(tb, context)\n",
      "  File \"C:\\Users\\Ashish\\Anaconda3\\lib\\inspect.py\", line 1441, in getframeinfo\n",
      "    filename = getsourcefile(frame) or getfile(frame)\n",
      "  File \"C:\\Users\\Ashish\\Anaconda3\\lib\\inspect.py\", line 696, in getsourcefile\n",
      "    if getattr(getmodule(object, filename), '__loader__', None) is not None:\n",
      "  File \"C:\\Users\\Ashish\\Anaconda3\\lib\\inspect.py\", line 732, in getmodule\n",
      "    for modname, module in list(sys.modules.items()):\n",
      "KeyboardInterrupt\n"
     ]
    },
    {
     "ename": "KeyboardInterrupt",
     "evalue": "",
     "output_type": "error",
     "traceback": [
      "\u001b[1;31m---------------------------------------------------------------------------\u001b[0m"
     ]
    }
   ],
   "source": [
    "model.fit(X_train, y_train,epochs=10, batch_size=1, verbose=1,validation_data=(val_train,val_test))"
   ]
  },
  {
   "cell_type": "code",
   "execution_count": 63,
   "metadata": {},
   "outputs": [],
   "source": [
    "classifier= model "
   ]
  },
  {
   "cell_type": "code",
   "execution_count": 66,
   "metadata": {},
   "outputs": [],
   "source": [
    "os.chdir(\"H:\\\\document_classification\\\\Dataset\\\\test-data\")\n",
    "path=\"H:\\\\document_classification\\\\Dataset\\\\test-data\"\n",
    "for dirpath,dirnames,filenames in os.walk(path):\n",
    "    filname=filenames "
   ]
  },
  {
   "cell_type": "code",
   "execution_count": 67,
   "metadata": {},
   "outputs": [],
   "source": [
    "path=\"H:\\\\document_classification\\\\Dataset\\\\test-data\"\n",
    "test=[]\n",
    "for i in range(len(filenames)):\n",
    "    new_path=path+'\\\\'+filenames[i]\n",
    "    with open(new_path,'r') as infile:\n",
    "        data=infile.read()\n",
    "        test.append(data)"
   ]
  },
  {
   "cell_type": "code",
   "execution_count": 68,
   "metadata": {},
   "outputs": [
    {
     "name": "stdout",
     "output_type": "stream",
     "text": [
      "Loading Glove Model\n",
      "Done. 400000  words loaded!\n"
     ]
    }
   ],
   "source": [
    "file = r\"H:\\\\glove.6B.100d.txt\"\n",
    "import numpy as np\n",
    "def loadGloveModel(gloveFile):\n",
    "    print (\"Loading Glove Model\")\n",
    "    with open(gloveFile, encoding=\"utf8\" ) as f:\n",
    "       content = f.readlines()\n",
    "    model = {}\n",
    "    for line in content:\n",
    "        splitLine = line.split()\n",
    "        word = splitLine[0]\n",
    "        embedding = np.array([float(val) for val in splitLine[1:]])\n",
    "        model[word] = embedding\n",
    "    print (\"Done.\",len(model),\" words loaded!\")\n",
    "    return model\n",
    "model_dict=loadGloveModel(file)"
   ]
  },
  {
   "cell_type": "code",
   "execution_count": 70,
   "metadata": {},
   "outputs": [],
   "source": [
    "original_test = []\n",
    "new_test=[]\n",
    "for i in range(0,len(test)):\n",
    "    temp1=[]\n",
    "    test[i]=test[i].lower()\n",
    "    l=re.sub('[^A-Za-z0-9]',' ',test[i])\n",
    "    temp2=l.split()\n",
    "    original_test.append(temp2)\n",
    "    for words in temp2:\n",
    "        if words in model_dict:\n",
    "            temp1.append(list(model_dict[words]))\n",
    "        else:\n",
    "            temp1.append(list(np.zeros(100)))\n",
    "    new_test.append(temp1)"
   ]
  },
  {
   "cell_type": "code",
   "execution_count": 142,
   "metadata": {},
   "outputs": [],
   "source": [
    "from keras.preprocessing.sequence import pad_sequences\n",
    "padded_test=pad_sequences(new_test,padding='post',maxlen=2500)"
   ]
  },
  {
   "cell_type": "code",
   "execution_count": 71,
   "metadata": {},
   "outputs": [],
   "source": [
    "for i in range(len(new_test)):\n",
    "    new_test[i].extend([[0]*100]*(2500-len(new_test[i])))"
   ]
  },
  {
   "cell_type": "code",
   "execution_count": 72,
   "metadata": {},
   "outputs": [],
   "source": [
    "X_test=np.array(new_test)"
   ]
  },
  {
   "cell_type": "code",
   "execution_count": 73,
   "metadata": {},
   "outputs": [
    {
     "data": {
      "text/plain": [
       "(250, 2500, 100)"
      ]
     },
     "execution_count": 73,
     "metadata": {},
     "output_type": "execute_result"
    }
   ],
   "source": [
    "X_test.shape"
   ]
  },
  {
   "cell_type": "code",
   "execution_count": 74,
   "metadata": {},
   "outputs": [],
   "source": [
    "k=model.predict(X_test)"
   ]
  },
  {
   "cell_type": "code",
   "execution_count": 76,
   "metadata": {},
   "outputs": [],
   "source": [
    "y_pred=[]\n",
    "for j in range(len(k)):\n",
    "    pred=[]\n",
    "    for item in k[j]:\n",
    "        temp=[]\n",
    "        item=list(item)\n",
    "        for items in item:\n",
    "            if(items==max(item)):\n",
    "                temp.append(1)\n",
    "            else:\n",
    "                temp.append(0)\n",
    "        pred.append(temp)\n",
    "    y_pred.append(pred)"
   ]
  },
  {
   "cell_type": "code",
   "execution_count": 77,
   "metadata": {},
   "outputs": [],
   "source": [
    "corr_pred = []\n",
    "for i in range(0,len(test)):\n",
    "    corr_pred.append(y_pred[i][0:len(original_test[i])])"
   ]
  },
  {
   "cell_type": "code",
   "execution_count": 78,
   "metadata": {},
   "outputs": [],
   "source": [
    "fin_pred=[]\n",
    "for i in range(0,len(k)):\n",
    "    output=list(map(sum,zip(*corr_pred[i])))\n",
    "    l=0\n",
    "    new_pred=[]\n",
    "    for items in output:\n",
    "        if(l<len(original_test[i])):\n",
    "            l=l+items\n",
    "            new_pred.append(l)\n",
    "    fin_pred.append(new_pred[:-1])"
   ]
  },
  {
   "cell_type": "code",
   "execution_count": 79,
   "metadata": {},
   "outputs": [],
   "source": [
    "dict_test=[]\n",
    "for i in range(0,len(test)):\n",
    "    test[i]=test[i].lower()\n",
    "    l=re.sub('[^A-Za-z0-9]',' ',test[i])\n",
    "    temp2=l.split()\n",
    "    dict_test.append(temp2)"
   ]
  },
  {
   "cell_type": "code",
   "execution_count": 167,
   "metadata": {},
   "outputs": [
    {
     "data": {
      "text/plain": [
       "[1, 319, 993, 1476, 1558, 2008]"
      ]
     },
     "execution_count": 167,
     "metadata": {},
     "output_type": "execute_result"
    }
   ],
   "source": [
    "temp=[1]\n",
    "for i in range(len(fin_pred[0])):\n",
    "    r=dict_test[0][fin_pred[0][i]+1]\n",
    "    s=dict_test[0][fin_pred[0][i]+2]\n",
    "    t=dict_test[0][fin_pred[0][i]+3]\n",
    "    u=dict_test[0][fin_pred[0][i]+4]\n",
    "    pattern=r+r\"[^A-Za-z0-9]*\"+s+r\"[^A-Za-z0-9]*\"+t+r\"[^A-Za-z0-9]*\"+u\n",
    "    #print(r,s,t)\n",
    "    p=re.compile(pattern)\n",
    "    for m in p.finditer(test[0]):\n",
    "        k=m.start()\n",
    "    temp.append(k-1)\n",
    "#temp.extend(len(test[0])-1)\n",
    "temp.append(len(test[0]))\n",
    "temp"
   ]
  },
  {
   "cell_type": "code",
   "execution_count": 215,
   "metadata": {},
   "outputs": [
    {
     "data": {
      "text/plain": [
       "[52, 113, 147, 2447]"
      ]
     },
     "execution_count": 215,
     "metadata": {},
     "output_type": "execute_result"
    }
   ],
   "source": [
    "fin_pred[106]"
   ]
  },
  {
   "cell_type": "code",
   "execution_count": 80,
   "metadata": {},
   "outputs": [],
   "source": [
    "y_final_result=[]\n",
    "for j in range(250):\n",
    "    #ank=ank+1\n",
    "    #print(ank)\n",
    "    temp=[1]\n",
    "    for i in range(len(fin_pred[j])):\n",
    "        #print(j)\n",
    "        r=dict_test[j][fin_pred[j][i]+1]\n",
    "        s=dict_test[j][fin_pred[j][i]+2]\n",
    "        t=dict_test[j][fin_pred[j][i]+3]\n",
    "        u=dict_test[j][fin_pred[j][i]+4]\n",
    "        pattern=r+r\"[^A-Za-z0-9]*\"+s+r\"[^A-Za-z0-9]*\"+t+r\"[^A-Za-z0-9]*\"+u\n",
    "        #print(r,s,t)\n",
    "        p=re.compile(pattern)\n",
    "        for m in p.finditer(test[j]):\n",
    "            k=m.start()\n",
    "        temp.append(k-1)\n",
    "#temp.extend(len(test[0])-1)\n",
    "    temp.append(len(test[j]))\n",
    "    y_final_result.append(temp)"
   ]
  },
  {
   "cell_type": "code",
   "execution_count": 154,
   "metadata": {},
   "outputs": [
    {
     "data": {
      "text/plain": [
       "[[1, 319, 993, 1476, 1558, 2008],\n",
       " [1, 314, 995, 1578, 1668, 2137],\n",
       " [1, 278, 1220, 2272, 2497, 2955],\n",
       " [1, 377, 857, 1613, 1717, 2154],\n",
       " [1, 404, 776, 1644, 1793, 2215],\n",
       " [1, 351, 828, 1425, 1542, 1993],\n",
       " [1, 307, 750, 1224, 1323, 1702],\n",
       " [1, 396, 701, 1383, 1523, 1991],\n",
       " [1, 377, 1120, 1950, 2118, 2726],\n",
       " [1, 326, 777, 1410, 1509, 1922],\n",
       " [1, 325, 1169, 2489, 2607, 3022],\n",
       " [1, 305, 809, 1395, 1489, 1925],\n",
       " [1, 263, 1032, 1410, 1525, 1873],\n",
       " [1, 286, 900, 1398, 1499, 1967],\n",
       " [1, 328, 873, 1602, 1691, 2140],\n",
       " [1, 336, 1084, 1938, 2127, 2655],\n",
       " [1, 265, 746, 1323, 1404, 1863],\n",
       " [1, 221, 875, 1298, 1370, 1862],\n",
       " [1, 309, 1085, 2098, 2252, 2704],\n",
       " [1, 324, 836, 1468, 1584, 2078],\n",
       " [1, 245, 815, 1357, 1479, 1918],\n",
       " [1, 203, 800, 1221, 1326, 1775],\n",
       " [1, 273, 774, 1367, 1503, 1965],\n",
       " [1, 265, 786, 1535, 1646, 2105],\n",
       " [1, 306, 917, 1779, 1913, 2326],\n",
       " [1, 272, 830, 1412, 1536, 1959],\n",
       " [1, 400, 1502, 2024, 2167, 2596],\n",
       " [1, 377, 941, 2248, 2419, 2797],\n",
       " [1, 359, 858, 1454, 1538, 2008],\n",
       " [1, 315, 782, 1429, 1548, 1943],\n",
       " [1, 309, 902, 2073, 2208, 2639],\n",
       " [1, 339, 961, 1410, 1509, 1919],\n",
       " [1, 304, 752, 1177, 1288, 1789],\n",
       " [1, 407, 860, 1594, 1701, 2122],\n",
       " [1, 338, 865, 1646, 1871, 2236],\n",
       " [1, 382, 1091, 2059, 2220, 2676],\n",
       " [1, 307, 846, 2604, 2652, 3139],\n",
       " [1, 287, 868, 1383, 1501, 1927],\n",
       " [1, 252, 920, 1436, 1543, 1970],\n",
       " [1, 349, 956, 2400, 2713, 3295],\n",
       " [1, 272, 1054, 1423, 1550, 1909],\n",
       " [1, 352, 851, 1477, 1613, 2074],\n",
       " [1, 377, 701, 1589, 1754, 2166],\n",
       " [1, 226, 725, 1318, 1415, 1896],\n",
       " [1, 261, 613, 1119, 1276, 1755],\n",
       " [1, 238, 729, 1269, 1371, 1869],\n",
       " [1, 269, 734, 1151, 1275, 1720],\n",
       " [1, 246, 644, 1284, 1449, 1911],\n",
       " [1, 302, 1138, 2166, 2394, 2900],\n",
       " [1, 391, 812, 1464, 1616, 2079],\n",
       " [1, 245, 779, 1251, 1334, 1780],\n",
       " [1, 300, 975, 1686, 1768, 2198],\n",
       " [1, 501, 2391, 2571, 2674, 2939],\n",
       " [1, 295, 853, 1493, 1645, 2189],\n",
       " [1, 218, 890, 1377, 1432, 1850],\n",
       " [1, 198, 718, 1264, 1358, 1869],\n",
       " [1, 261, 1008, 1413, 1517, 2067],\n",
       " [1, 313, 870, 1663, 1741, 2248],\n",
       " [1, 236, 783, 1372, 1473, 1906],\n",
       " [1, 276, 958, 1485, 1625, 2162],\n",
       " [1, 357, 709, 1392, 1546, 2005],\n",
       " [1, 252, 920, 1514, 1585, 2029],\n",
       " [1, 204, 618, 1202, 1311, 1780],\n",
       " [1, 253, 623, 1220, 1384, 1826],\n",
       " [1, 320, 765, 1367, 1504, 1964],\n",
       " [1, 233, 766, 1240, 1337, 1794],\n",
       " [1, 326, 782, 1412, 1593, 2058],\n",
       " [1, 277, 962, 1547, 1674, 2187],\n",
       " [1, 230, 620, 1354, 1560, 2031],\n",
       " [1, 235, 913, 1326, 1455, 1831],\n",
       " [1, 302, 852, 2266, 2432, 2900],\n",
       " [1, 289, 783, 1418, 1572, 2016],\n",
       " [1, 228, 663, 1281, 1445, 1862],\n",
       " [1, 326, 1122, 2078, 2187, 2590],\n",
       " [1, 167, 1140, 2209, 2372, 2855],\n",
       " [1, 224, 928, 1765, 1879, 2262],\n",
       " [1, 304, 808, 1826, 2054, 2622],\n",
       " [1, 296, 746, 1508, 1672, 2092],\n",
       " [1, 317, 939, 1533, 1664, 2111],\n",
       " [1, 323, 1468, 2104, 2306, 3015],\n",
       " [1, 346, 1070, 1540, 1663, 2052],\n",
       " [1, 350, 711, 1459, 1598, 2050],\n",
       " [1, 223, 799, 1285, 1414, 1811],\n",
       " [1, 222, 881, 1479, 1609, 2090],\n",
       " [1, 366, 1233, 2300, 2471, 2902],\n",
       " [1, 263, 672, 1171, 1279, 1701],\n",
       " [1, 452, 1225, 1997, 2178, 2607],\n",
       " [1, 321, 910, 1499, 1615, 2062],\n",
       " [1, 364, 1220, 2186, 2330, 2780],\n",
       " [1, 328, 933, 1968, 2124, 2522],\n",
       " [1, 216, 778, 1198, 1284, 1721],\n",
       " [1, 365, 908, 1295, 1371, 1841],\n",
       " [1, 237, 830, 1610, 1717, 2164],\n",
       " [1, 475, 1045, 1895, 2099, 2631],\n",
       " [1, 316, 940, 1473, 1620, 2092],\n",
       " [1, 222, 560, 1091, 1263, 1651],\n",
       " [1, 274, 819, 1509, 1605, 2088],\n",
       " [1, 277, 1894, 2284, 2407, 2766],\n",
       " [1, 399, 888, 1486, 1651, 2068],\n",
       " [1, 246, 814, 1339, 1469, 1871],\n",
       " [1, 299, 997, 1924, 2075, 2548],\n",
       " [1, 220, 688, 1417, 1509, 1967],\n",
       " [1, 216, 1423, 2227, 2421, 3033],\n",
       " [1, 237, 787, 1342, 1437, 1865],\n",
       " [1, 360, 741, 1392, 1555, 2048],\n",
       " [1, 342, 1216, 1994, 2072, 2634],\n",
       " [1, 212, 813, 1014, 1142, 1467],\n",
       " [1, 328, 807, 1496, 1619, 2099],\n",
       " [1, 311, 885, 1294, 1391, 1799],\n",
       " [1, 307, 819, 1378, 1524, 2018],\n",
       " [1, 300, 1090, 2048, 2211, 2619],\n",
       " [1, 328, 1048, 3260, 3369, 3768],\n",
       " [1, 317, 862, 1406, 1529, 2002],\n",
       " [1, 354, 1407, 2206, 2324, 2745],\n",
       " [1, 361, 1019, 1699, 1856, 2346],\n",
       " [1, 354, 1355, 2191, 2411, 2811],\n",
       " [1, 348, 1073, 2849, 2883, 3398],\n",
       " [1, 285, 874, 1575, 1725, 2160],\n",
       " [1, 311, 1346, 2462, 2581, 3477],\n",
       " [1, 274, 753, 1258, 1360, 1746],\n",
       " [1, 332, 1246, 1977, 2159, 2668],\n",
       " [1, 260, 1089, 1364, 1476, 1799],\n",
       " [1, 257, 804, 1303, 1445, 1850],\n",
       " [1, 326, 924, 1547, 1676, 2114],\n",
       " [1, 322, 1114, 2091, 2274, 2746],\n",
       " [1, 185, 859, 1246, 1375, 1792],\n",
       " [1, 291, 1000, 2025, 2171, 2731],\n",
       " [1, 248, 911, 3077, 3231, 3702],\n",
       " [1, 297, 794, 1414, 1550, 2034],\n",
       " [1, 464, 1290, 1955, 2122, 2618],\n",
       " [1, 269, 655, 1288, 1412, 1862],\n",
       " [1, 335, 990, 1648, 1757, 2233],\n",
       " [1, 239, 852, 1441, 1567, 2034],\n",
       " [1, 413, 1154, 2210, 2319, 2785],\n",
       " [1, 203, 798, 1310, 1426, 1943],\n",
       " [1, 413, 813, 1470, 1647, 2057],\n",
       " [1, 347, 953, 1532, 1612, 2002],\n",
       " [1, 412, 984, 2283, 2367, 2887],\n",
       " [1, 372, 690, 1374, 1563, 2009],\n",
       " [1, 255, 769, 1456, 1599, 2021],\n",
       " [1, 174, 742, 1228, 1313, 1808],\n",
       " [1, 304, 819, 1630, 1734, 2225],\n",
       " [1, 452, 881, 1416, 1524, 1991],\n",
       " [1, 298, 1016, 1925, 2149, 2610],\n",
       " [1, 123, 1171, 1791, 1906, 2788],\n",
       " [1, 294, 1068, 1958, 2149, 2671],\n",
       " [1, 371, 965, 1429, 1535, 1990],\n",
       " [1, 194, 880, 1328, 1445, 1901],\n",
       " [1, 313, 1271, 2090, 2198, 2696],\n",
       " [1, 334, 810, 1443, 1598, 2017],\n",
       " [1, 254, 725, 1347, 1460, 1942],\n",
       " [1, 307, 1036, 2030, 2177, 2626],\n",
       " [1, 252, 651, 1319, 1426, 1840],\n",
       " [1, 304, 1119, 2020, 2182, 2633]]"
      ]
     },
     "execution_count": 154,
     "metadata": {},
     "output_type": "execute_result"
    }
   ],
   "source": [
    "# In[590]:\n",
    "y_final_result"
   ]
  },
  {
   "cell_type": "code",
   "execution_count": 160,
   "metadata": {},
   "outputs": [
    {
     "data": {
      "text/plain": [
       "['test_1.txt',\n",
       " 'test_10.txt',\n",
       " 'test_100.txt',\n",
       " 'test_101.txt',\n",
       " 'test_102.txt',\n",
       " 'test_103.txt',\n",
       " 'test_104.txt',\n",
       " 'test_105.txt',\n",
       " 'test_106.txt',\n",
       " 'test_107.txt',\n",
       " 'test_108.txt',\n",
       " 'test_109.txt',\n",
       " 'test_11.txt',\n",
       " 'test_110.txt',\n",
       " 'test_111.txt',\n",
       " 'test_112.txt',\n",
       " 'test_113.txt',\n",
       " 'test_114.txt',\n",
       " 'test_115.txt',\n",
       " 'test_116.txt',\n",
       " 'test_117.txt',\n",
       " 'test_118.txt',\n",
       " 'test_119.txt',\n",
       " 'test_12.txt',\n",
       " 'test_120.txt',\n",
       " 'test_121.txt',\n",
       " 'test_122.txt',\n",
       " 'test_123.txt',\n",
       " 'test_124.txt',\n",
       " 'test_125.txt',\n",
       " 'test_126.txt',\n",
       " 'test_127.txt',\n",
       " 'test_128.txt',\n",
       " 'test_129.txt',\n",
       " 'test_13.txt',\n",
       " 'test_130.txt',\n",
       " 'test_131.txt',\n",
       " 'test_132.txt',\n",
       " 'test_133.txt',\n",
       " 'test_134.txt',\n",
       " 'test_135.txt',\n",
       " 'test_136.txt',\n",
       " 'test_137.txt',\n",
       " 'test_138.txt',\n",
       " 'test_139.txt',\n",
       " 'test_14.txt',\n",
       " 'test_140.txt',\n",
       " 'test_141.txt',\n",
       " 'test_142.txt',\n",
       " 'test_143.txt',\n",
       " 'test_144.txt',\n",
       " 'test_145.txt',\n",
       " 'test_146.txt',\n",
       " 'test_147.txt',\n",
       " 'test_148.txt',\n",
       " 'test_149.txt',\n",
       " 'test_15.txt',\n",
       " 'test_150.txt',\n",
       " 'test_151.txt',\n",
       " 'test_152.txt',\n",
       " 'test_153.txt',\n",
       " 'test_154.txt',\n",
       " 'test_155.txt',\n",
       " 'test_156.txt',\n",
       " 'test_157.txt',\n",
       " 'test_158.txt',\n",
       " 'test_159.txt',\n",
       " 'test_16.txt',\n",
       " 'test_160.txt',\n",
       " 'test_161.txt',\n",
       " 'test_162.txt',\n",
       " 'test_163.txt',\n",
       " 'test_164.txt',\n",
       " 'test_165.txt',\n",
       " 'test_166.txt',\n",
       " 'test_167.txt',\n",
       " 'test_168.txt',\n",
       " 'test_169.txt',\n",
       " 'test_17.txt',\n",
       " 'test_170.txt',\n",
       " 'test_171.txt',\n",
       " 'test_172.txt',\n",
       " 'test_173.txt',\n",
       " 'test_174.txt',\n",
       " 'test_175.txt',\n",
       " 'test_176.txt',\n",
       " 'test_177.txt',\n",
       " 'test_178.txt',\n",
       " 'test_179.txt',\n",
       " 'test_18.txt',\n",
       " 'test_180.txt',\n",
       " 'test_181.txt',\n",
       " 'test_182.txt',\n",
       " 'test_183.txt',\n",
       " 'test_184.txt',\n",
       " 'test_185.txt',\n",
       " 'test_186.txt',\n",
       " 'test_187.txt',\n",
       " 'test_188.txt',\n",
       " 'test_189.txt',\n",
       " 'test_19.txt',\n",
       " 'test_190.txt',\n",
       " 'test_191.txt',\n",
       " 'test_192.txt',\n",
       " 'test_193.txt',\n",
       " 'test_194.txt',\n",
       " 'test_195.txt',\n",
       " 'test_196.txt',\n",
       " 'test_197.txt',\n",
       " 'test_198.txt',\n",
       " 'test_199.txt',\n",
       " 'test_2.txt',\n",
       " 'test_20.txt',\n",
       " 'test_200.txt',\n",
       " 'test_201.txt',\n",
       " 'test_202.txt',\n",
       " 'test_203.txt',\n",
       " 'test_204.txt',\n",
       " 'test_205.txt',\n",
       " 'test_206.txt',\n",
       " 'test_207.txt',\n",
       " 'test_208.txt',\n",
       " 'test_209.txt',\n",
       " 'test_21.txt',\n",
       " 'test_210.txt',\n",
       " 'test_211.txt',\n",
       " 'test_212.txt',\n",
       " 'test_213.txt',\n",
       " 'test_214.txt',\n",
       " 'test_215.txt',\n",
       " 'test_216.txt',\n",
       " 'test_217.txt',\n",
       " 'test_218.txt',\n",
       " 'test_219.txt',\n",
       " 'test_22.txt',\n",
       " 'test_220.txt',\n",
       " 'test_221.txt',\n",
       " 'test_222.txt',\n",
       " 'test_223.txt',\n",
       " 'test_224.txt',\n",
       " 'test_225.txt',\n",
       " 'test_226.txt',\n",
       " 'test_227.txt',\n",
       " 'test_228.txt',\n",
       " 'test_229.txt',\n",
       " 'test_23.txt',\n",
       " 'test_230.txt',\n",
       " 'test_231.txt',\n",
       " 'test_232.txt',\n",
       " 'test_233.txt',\n",
       " 'test_234.txt',\n",
       " 'test_235.txt',\n",
       " 'test_236.txt',\n",
       " 'test_237.txt',\n",
       " 'test_238.txt',\n",
       " 'test_239.txt',\n",
       " 'test_24.txt',\n",
       " 'test_240.txt',\n",
       " 'test_241.txt',\n",
       " 'test_242.txt',\n",
       " 'test_243.txt',\n",
       " 'test_244.txt',\n",
       " 'test_245.txt',\n",
       " 'test_246.txt',\n",
       " 'test_247.txt',\n",
       " 'test_248.txt',\n",
       " 'test_249.txt',\n",
       " 'test_25.txt',\n",
       " 'test_250.txt',\n",
       " 'test_26.txt',\n",
       " 'test_27.txt',\n",
       " 'test_28.txt',\n",
       " 'test_29.txt',\n",
       " 'test_3.txt',\n",
       " 'test_30.txt',\n",
       " 'test_31.txt',\n",
       " 'test_32.txt',\n",
       " 'test_33.txt',\n",
       " 'test_34.txt',\n",
       " 'test_35.txt',\n",
       " 'test_36.txt',\n",
       " 'test_37.txt',\n",
       " 'test_38.txt',\n",
       " 'test_39.txt',\n",
       " 'test_4.txt',\n",
       " 'test_40.txt',\n",
       " 'test_41.txt',\n",
       " 'test_42.txt',\n",
       " 'test_43.txt',\n",
       " 'test_44.txt',\n",
       " 'test_45.txt',\n",
       " 'test_46.txt',\n",
       " 'test_47.txt',\n",
       " 'test_48.txt',\n",
       " 'test_49.txt',\n",
       " 'test_5.txt',\n",
       " 'test_50.txt',\n",
       " 'test_51.txt',\n",
       " 'test_52.txt',\n",
       " 'test_53.txt',\n",
       " 'test_54.txt',\n",
       " 'test_55.txt',\n",
       " 'test_56.txt',\n",
       " 'test_57.txt',\n",
       " 'test_58.txt',\n",
       " 'test_59.txt',\n",
       " 'test_6.txt',\n",
       " 'test_60.txt',\n",
       " 'test_61.txt',\n",
       " 'test_62.txt',\n",
       " 'test_63.txt',\n",
       " 'test_64.txt',\n",
       " 'test_65.txt',\n",
       " 'test_66.txt',\n",
       " 'test_67.txt',\n",
       " 'test_68.txt',\n",
       " 'test_69.txt',\n",
       " 'test_7.txt',\n",
       " 'test_70.txt',\n",
       " 'test_71.txt',\n",
       " 'test_72.txt',\n",
       " 'test_73.txt',\n",
       " 'test_74.txt',\n",
       " 'test_75.txt',\n",
       " 'test_76.txt',\n",
       " 'test_77.txt',\n",
       " 'test_78.txt',\n",
       " 'test_79.txt',\n",
       " 'test_8.txt',\n",
       " 'test_80.txt',\n",
       " 'test_81.txt',\n",
       " 'test_82.txt',\n",
       " 'test_83.txt',\n",
       " 'test_84.txt',\n",
       " 'test_85.txt',\n",
       " 'test_86.txt',\n",
       " 'test_87.txt',\n",
       " 'test_88.txt',\n",
       " 'test_89.txt',\n",
       " 'test_9.txt',\n",
       " 'test_90.txt',\n",
       " 'test_91.txt',\n",
       " 'test_92.txt',\n",
       " 'test_93.txt',\n",
       " 'test_94.txt',\n",
       " 'test_95.txt',\n",
       " 'test_96.txt',\n",
       " 'test_97.txt',\n",
       " 'test_98.txt',\n",
       " 'test_99.txt']"
      ]
     },
     "execution_count": 160,
     "metadata": {},
     "output_type": "execute_result"
    }
   ],
   "source": [
    "filenames"
   ]
  },
  {
   "cell_type": "code",
   "execution_count": 81,
   "metadata": {},
   "outputs": [
    {
     "data": {
      "text/plain": [
       "['1-474-852-1234-1651-2008',\n",
       " '1-373-794-1308-1731-2137',\n",
       " '1-519-1083-1868-2207-2955',\n",
       " '1-512-991-1448-1770-2154',\n",
       " '1-476-826-1267-1729-2215',\n",
       " '1-483-818-1210-1612-1993',\n",
       " '1-493-876-1178-1469-1702',\n",
       " '1-425-770-1178-1571-1991',\n",
       " '1-473-1019-1792-1890-2726',\n",
       " '1-395-851-1264-1603-1922',\n",
       " '1-388-835-1641-2489-3022',\n",
       " '1-429-658-1186-1551-1925',\n",
       " '1-316-708-1001-1507-1873',\n",
       " '1-524-740-1279-1499-1967',\n",
       " '1-471-860-1332-1724-2140',\n",
       " '1-638-1041-1594-2099-2655',\n",
       " '1-518-977-1333-1631-1863',\n",
       " '1-466-784-1089-1456-1862',\n",
       " '1-394-940-1697-2208-2704',\n",
       " '1-320-714-1226-1528-2078',\n",
       " '1-434-874-1262-1521-1918',\n",
       " '1-412-806-1236-1548-1775',\n",
       " '1-350-682-1078-1493-1965',\n",
       " '1-378-786-1158-1622-2105',\n",
       " '1-335-817-1345-1758-2326',\n",
       " '1-440-706-1139-1536-1959',\n",
       " '1-579-1322-1789-2201-2596',\n",
       " '1-494-964-1464-2324-2797',\n",
       " '1-429-884-1248-1612-2008',\n",
       " '1-368-728-1149-1476-1943',\n",
       " '1-483-808-1276-2268-2639',\n",
       " '1-483-827-1140-1540-1919',\n",
       " '1-401-722-1046-1468-1789',\n",
       " '1-433-765-1186-1587-2122',\n",
       " '1-465-886-1267-1920-2236',\n",
       " '1-497-989-1543-2198-2676',\n",
       " '1-338-714-1757-2415-3139',\n",
       " '1-366-696-1150-1571-1927',\n",
       " '1-351-819-1166-1576-1970',\n",
       " '1-382-970-1449-2882-3295',\n",
       " '1-469-710-1175-1570-1909',\n",
       " '1-502-924-1299-1706-2074',\n",
       " '1-412-878-1303-1754-2166',\n",
       " '1-379-834-1135-1466-1896',\n",
       " '1-459-792-1065-1428-1755',\n",
       " '1-514-831-1170-1544-1869',\n",
       " '1-338-725-1097-1403-1720',\n",
       " '1-359-683-1120-1540-1911',\n",
       " '1-551-998-1924-2309-2900',\n",
       " '1-538-997-1332-1644-2079',\n",
       " '1-390-760-1208-1463-1780',\n",
       " '1-391-778-1405-1786-2198',\n",
       " '1-1309-1708-2123-2537-2939',\n",
       " '1-348-832-1280-1658-2189',\n",
       " '1-456-765-1129-1585-1850',\n",
       " '1-364-661-1198-1566-1869',\n",
       " '1-493-901-1219-1615-2067',\n",
       " '1-544-998-1406-1737-2248',\n",
       " '1-415-819-1235-1553-1906',\n",
       " '1-462-942-1443-1852-2162',\n",
       " '1-440-802-1212-1579-2005',\n",
       " '1-429-777-1332-1626-2029',\n",
       " '1-356-669-994-1368-1780',\n",
       " '1-364-709-1092-1485-1826',\n",
       " '1-430-861-1279-1523-1964',\n",
       " '1-613-861-1232-1460-1794',\n",
       " '1-432-861-1230-1609-2058',\n",
       " '1-403-816-1250-1557-2187',\n",
       " '1-388-682-1147-1660-2031',\n",
       " '1-411-745-1086-1505-1831',\n",
       " '1-532-850-1921-2421-2900',\n",
       " '1-367-831-1244-1610-2016',\n",
       " '1-388-805-1185-1532-1862',\n",
       " '1-519-1109-1564-2136-2590',\n",
       " '1-557-1037-1650-2226-2855',\n",
       " '1-335-715-1302-1911-2262',\n",
       " '1-462-1012-1553-2081-2622',\n",
       " '1-382-835-1139-1699-2092',\n",
       " '1-460-944-1369-1679-2111',\n",
       " '1-640-1275-1518-2353-3015',\n",
       " '1-603-1022-1299-1689-2052',\n",
       " '1-396-827-1140-1624-2050',\n",
       " '1-330-679-1106-1470-1811',\n",
       " '1-334-765-1099-1569-2090',\n",
       " '1-511-939-1744-2367-2902',\n",
       " '1-421-772-1094-1411-1701',\n",
       " '1-478-784-1561-1989-2607',\n",
       " '1-427-770-1300-1689-2062',\n",
       " '1-430-913-1434-2089-2780',\n",
       " '1-467-912-1521-1957-2522',\n",
       " '1-338-678-1048-1338-1721',\n",
       " '1-396-731-1121-1502-1841',\n",
       " '1-376-938-1382-1778-2164',\n",
       " '1-548-1236-1680-2274-2631',\n",
       " '1-390-802-1304-1673-2092',\n",
       " '1-300-734-1160-1542-1651',\n",
       " '1-362-746-1166-1613-2088',\n",
       " '1-385-846-1532-2152-2766',\n",
       " '1-385-850-1298-1760-2068',\n",
       " '1-410-876-1173-1555-1871',\n",
       " '1-411-821-1544-2033-2548',\n",
       " '1-535-753-1238-1610-1967',\n",
       " '1-633-1042-1825-2280-3033',\n",
       " '1-391-746-1074-1446-1865',\n",
       " '1-517-824-1316-1674-2048',\n",
       " '1-468-901-1535-2033-2634',\n",
       " '1-367-793-1102-1430-1467',\n",
       " '1-376-863-1253-1662-2099',\n",
       " '1-383-737-1003-1465-1799',\n",
       " '1-453-871-1222-1602-2018',\n",
       " '1-360-623-1334-2088-2619',\n",
       " '1-485-914-2584-3052-3768',\n",
       " '1-382-800-1200-1640-2002',\n",
       " '1-537-1007-1751-2288-2745',\n",
       " '1-459-920-1308-1876-2346',\n",
       " '1-485-996-1579-2332-2811',\n",
       " '1-447-922-1445-3141-3398',\n",
       " '1-440-966-1344-1769-2160',\n",
       " '1-614-1265-2452-2670-3477',\n",
       " '1-344-715-977-1388-1746',\n",
       " '1-776-1098-1661-2041-2668',\n",
       " '1-426-785-1089-1444-1799',\n",
       " '1-372-804-1197-1560-1850',\n",
       " '1-616-899-1407-1777-2114',\n",
       " '1-370-805-1660-2243-2746',\n",
       " '1-388-668-1052-1444-1792',\n",
       " '1-552-1089-1685-2205-2731',\n",
       " '1-335-716-2658-3003-3702',\n",
       " '1-450-891-1236-1702-2034',\n",
       " '1-632-1013-1622-2013-2618',\n",
       " '1-455-821-1143-1539-1862',\n",
       " '1-460-878-1311-1746-2233',\n",
       " '1-403-852-1231-1584-2034',\n",
       " '1-420-1012-1642-2239-2785',\n",
       " '1-547-740-1207-1566-1943',\n",
       " '1-378-774-1180-1679-2057',\n",
       " '1-477-887-1232-1626-2002',\n",
       " '1-655-1070-1804-2359-2887',\n",
       " '1-387-812-1196-1657-2009',\n",
       " '1-407-836-1336-1695-2021',\n",
       " '1-469-776-1127-1513-1808',\n",
       " '1-515-951-1351-1745-2225',\n",
       " '1-390-801-1184-1588-1991',\n",
       " '1-459-917-1281-1947-2610',\n",
       " '1-469-974-1600-2216-2788',\n",
       " '1-358-861-1447-1976-2671',\n",
       " '1-471-837-1272-1613-1990',\n",
       " '1-478-829-1172-1483-1901',\n",
       " '1-432-796-1390-2101-2696',\n",
       " '1-370-791-1206-1504-2017',\n",
       " '1-398-796-1193-1572-1942',\n",
       " '1-361-713-1778-2121-2626',\n",
       " '1-368-717-1151-1473-1840',\n",
       " '1-409-843-1648-2169-2633',\n",
       " '1-534-875-1185-1539-1786',\n",
       " '1-426-961-1442-2056-2576',\n",
       " '1-442-891-1165-1565-1856',\n",
       " '1-496-889-1244-1621-2109',\n",
       " '1-482-831-1282-1599-2118',\n",
       " '1-418-799-2071-2580-3461',\n",
       " '1-463-788-1177-1541-2004',\n",
       " '1-621-1074-1702-2175-2667',\n",
       " '1-382-711-1073-1361-1699',\n",
       " '1-372-809-1140-1612-1950',\n",
       " '1-399-728-1015-1441-1807',\n",
       " '1-436-743-1095-1475-1795',\n",
       " '1-418-984-1740-2252-2867',\n",
       " '1-492-852-1297-1695-2066',\n",
       " '1-476-831-1340-1810-2311',\n",
       " '1-410-745-1033-1484-1828',\n",
       " '1-371-780-1142-1547-1921',\n",
       " '1-445-875-1485-1975-2510',\n",
       " '1-359-900-1487-1832-2580',\n",
       " '1-342-747-1265-1649-2110',\n",
       " '1-528-1127-1430-1850-2221',\n",
       " '1-480-803-1392-1808-2244',\n",
       " '1-802-868-1789-2229-2657',\n",
       " '1-448-885-1370-1727-2160',\n",
       " '1-471-885-1437-1905-2361',\n",
       " '1-417-765-1291-2536-3028',\n",
       " '1-503-991-2172-2446-3258',\n",
       " '1-395-875-1399-1967-2433',\n",
       " '1-440-840-1579-2077-2663',\n",
       " '1-380-791-1335-1708-2326',\n",
       " '1-352-786-1780-2226-2764',\n",
       " '1-456-910-1357-1632-2109',\n",
       " '1-359-846-1373-1830-2361',\n",
       " '1-426-751-1231-1533-2050',\n",
       " '1-326-755-1153-1460-1887',\n",
       " '1-402-741-1132-1547-1950',\n",
       " '1-440-830-1326-1696-2120',\n",
       " '1-358-843-1501-2112-2596',\n",
       " '1-316-799-1149-1613-1989',\n",
       " '1-483-937-1331-1721-2071',\n",
       " '1-428-917-1399-1816-2198',\n",
       " '1-411-729-1180-1542-1848',\n",
       " '1-332-769-1004-1366-1746',\n",
       " '1-408-845-2189-2580-3053',\n",
       " '1-465-952-1392-1803-2214',\n",
       " '1-497-982-1221-1710-2119',\n",
       " '1-446-820-1262-1641-2142',\n",
       " '1-558-960-1382-1754-2228',\n",
       " '1-449-894-1347-1636-2069',\n",
       " '1-320-722-1061-1487-1869',\n",
       " '1-696-920-1985-2553-3045',\n",
       " '1-279-669-990-1298-1691',\n",
       " '1-607-987-1513-1946-2268',\n",
       " '1-423-935-1474-1811-2393',\n",
       " '1-373-821-1306-1538-1954',\n",
       " '1-709-1199-1665-2180-2634',\n",
       " '1-613-987-1288-2263-2610',\n",
       " '1-378-807-1142-1521-1884',\n",
       " '1-447-1035-1387-2225-2552',\n",
       " '1-419-899-1519-1806-2265',\n",
       " '1-434-715-1072-1468-1856',\n",
       " '1-364-704-1185-1514-1761',\n",
       " '1-338-737-1239-1596-2030',\n",
       " '1-407-823-1291-1676-1971',\n",
       " '1-705-1215-1786-2051-2582',\n",
       " '1-348-778-1215-1783-2133',\n",
       " '1-455-908-1226-1546-1930',\n",
       " '1-437-769-1243-1576-1897',\n",
       " '1-447-861-1246-1570-1893',\n",
       " '1-377-803-1318-1668-2119',\n",
       " '1-391-713-1161-1498-1915',\n",
       " '1-611-975-1575-1907-2334',\n",
       " '1-461-788-1199-1504-1935',\n",
       " '1-364-752-1332-1705-2025',\n",
       " '1-498-804-1197-1607-1893',\n",
       " '1-472-832-1172-1548-1921',\n",
       " '1-433-916-1357-1799-2190',\n",
       " '1-587-880-1145-1561-1855',\n",
       " '1-336-910-1836-2064-2648',\n",
       " '1-525-911-1316-1702-2069',\n",
       " '1-390-771-1267-1566-1909',\n",
       " '1-526-941-1423-1798-2161',\n",
       " '1-352-727-1031-1362-1760',\n",
       " '1-454-865-1868-2257-2603',\n",
       " '1-333-718-1074-1424-1739',\n",
       " '1-387-830-1192-1591-1992',\n",
       " '1-353-834-1236-1589-1929',\n",
       " '1-402-895-1393-1718-2076',\n",
       " '1-371-707-1099-1449-1814',\n",
       " '1-397-852-1447-1792-2157',\n",
       " '1-414-808-1095-1472-1824',\n",
       " '1-322-732-1449-2064-2639',\n",
       " '1-412-814-1231-1653-2051',\n",
       " '1-392-889-1191-1523-1955',\n",
       " '1-445-933-1827-2177-2773',\n",
       " '1-453-829-1199-1588-1896']"
      ]
     },
     "execution_count": 81,
     "metadata": {},
     "output_type": "execute_result"
    }
   ],
   "source": [
    "segments=[]\n",
    "for i in range(len(y_final_result)):\n",
    "    temp=[str(i) for i in y_final_result[i]]\n",
    "    segments.append('-'.join(temp))\n",
    "\n",
    "segments"
   ]
  },
  {
   "cell_type": "code",
   "execution_count": 162,
   "metadata": {},
   "outputs": [
    {
     "data": {
      "text/plain": [
       "154"
      ]
     },
     "execution_count": 162,
     "metadata": {},
     "output_type": "execute_result"
    }
   ],
   "source": [
    "len(segments)"
   ]
  },
  {
   "cell_type": "code",
   "execution_count": 82,
   "metadata": {},
   "outputs": [],
   "source": [
    "import pandas as pd"
   ]
  },
  {
   "cell_type": "code",
   "execution_count": 83,
   "metadata": {},
   "outputs": [],
   "source": [
    "ankit_result= pd.DataFrame(\n",
    "    {'file_name':filenames,\n",
    "     'segments':segments\n",
    "    })\n",
    "ankit_result.to_csv('test_result_ankit_lenovo.csv')"
   ]
  }
 ],
 "metadata": {
  "kernelspec": {
   "display_name": "Python 3",
   "language": "python",
   "name": "python3"
  },
  "language_info": {
   "codemirror_mode": {
    "name": "ipython",
    "version": 3
   },
   "file_extension": ".py",
   "mimetype": "text/x-python",
   "name": "python",
   "nbconvert_exporter": "python",
   "pygments_lexer": "ipython3",
   "version": "3.6.6"
  }
 },
 "nbformat": 4,
 "nbformat_minor": 2
}
